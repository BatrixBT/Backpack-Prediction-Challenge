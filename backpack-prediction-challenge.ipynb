{
 "cells": [
  {
   "cell_type": "code",
   "execution_count": 1,
   "id": "de464cb8",
   "metadata": {
    "_cell_guid": "b1076dfc-b9ad-4769-8c92-a6c4dae69d19",
    "_uuid": "8f2839f25d086af736a60e9eeb907d3b93b6e0e5",
    "execution": {
     "iopub.execute_input": "2025-02-27T17:49:05.559399Z",
     "iopub.status.busy": "2025-02-27T17:49:05.559048Z",
     "iopub.status.idle": "2025-02-27T17:49:06.361014Z",
     "shell.execute_reply": "2025-02-27T17:49:06.360156Z"
    },
    "papermill": {
     "duration": 0.808293,
     "end_time": "2025-02-27T17:49:06.362240",
     "exception": false,
     "start_time": "2025-02-27T17:49:05.553947",
     "status": "completed"
    },
    "tags": []
   },
   "outputs": [
    {
     "name": "stdout",
     "output_type": "stream",
     "text": [
      "/kaggle/input/playground-series-s5e2/sample_submission.csv\n",
      "/kaggle/input/playground-series-s5e2/train.csv\n",
      "/kaggle/input/playground-series-s5e2/test.csv\n",
      "/kaggle/input/playground-series-s5e2/training_extra.csv\n"
     ]
    }
   ],
   "source": [
    "# This Python 3 environment comes with many helpful analytics libraries installed\n",
    "# It is defined by the kaggle/python Docker image: https://github.com/kaggle/docker-python\n",
    "# For example, here's several helpful packages to load\n",
    "\n",
    "import numpy as np # linear algebra\n",
    "import pandas as pd # data processing, CSV file I/O (e.g. pd.read_csv)\n",
    "\n",
    "# Input data files are available in the read-only \"../input/\" directory\n",
    "# For example, running this (by clicking run or pressing Shift+Enter) will list all files under the input directory\n",
    "\n",
    "import os\n",
    "for dirname, _, filenames in os.walk('/kaggle/input'):\n",
    "    for filename in filenames:\n",
    "        print(os.path.join(dirname, filename))\n",
    "\n",
    "# You can write up to 20GB to the current directory (/kaggle/working/) that gets preserved as output when you create a version using \"Save & Run All\" \n",
    "# You can also write temporary files to /kaggle/temp/, but they won't be saved outside of the current session"
   ]
  },
  {
   "cell_type": "markdown",
   "id": "69967ce5",
   "metadata": {
    "papermill": {
     "duration": 0.002948,
     "end_time": "2025-02-27T17:49:06.368853",
     "exception": false,
     "start_time": "2025-02-27T17:49:06.365905",
     "status": "completed"
    },
    "tags": []
   },
   "source": [
    "# Importing libraries"
   ]
  },
  {
   "cell_type": "code",
   "execution_count": 2,
   "id": "1d49e0ef",
   "metadata": {
    "execution": {
     "iopub.execute_input": "2025-02-27T17:49:06.376189Z",
     "iopub.status.busy": "2025-02-27T17:49:06.375725Z",
     "iopub.status.idle": "2025-02-27T17:49:08.704489Z",
     "shell.execute_reply": "2025-02-27T17:49:08.703655Z"
    },
    "papermill": {
     "duration": 2.334057,
     "end_time": "2025-02-27T17:49:08.705965",
     "exception": false,
     "start_time": "2025-02-27T17:49:06.371908",
     "status": "completed"
    },
    "tags": []
   },
   "outputs": [],
   "source": [
    "import pandas as pd\n",
    "import numpy as np\n",
    "from sklearn.pipeline import Pipeline\n",
    "from sklearn.compose import ColumnTransformer\n",
    "from sklearn.preprocessing import StandardScaler, OneHotEncoder\n",
    "from xgboost import XGBRegressor\n",
    "from catboost import CatBoostRegressor\n",
    "from sklearn.model_selection import train_test_split, cross_val_score\n",
    "from sklearn.ensemble import VotingRegressor\n",
    "from sklearn.metrics import mean_squared_error\n",
    "import optuna"
   ]
  },
  {
   "cell_type": "markdown",
   "id": "d56dc9be",
   "metadata": {
    "papermill": {
     "duration": 0.002932,
     "end_time": "2025-02-27T17:49:08.712533",
     "exception": false,
     "start_time": "2025-02-27T17:49:08.709601",
     "status": "completed"
    },
    "tags": []
   },
   "source": [
    "# Load Datasets"
   ]
  },
  {
   "cell_type": "code",
   "execution_count": 3,
   "id": "37de5e64",
   "metadata": {
    "execution": {
     "iopub.execute_input": "2025-02-27T17:49:08.719526Z",
     "iopub.status.busy": "2025-02-27T17:49:08.719161Z",
     "iopub.status.idle": "2025-02-27T17:49:15.216817Z",
     "shell.execute_reply": "2025-02-27T17:49:15.216101Z"
    },
    "papermill": {
     "duration": 6.502762,
     "end_time": "2025-02-27T17:49:15.218317",
     "exception": false,
     "start_time": "2025-02-27T17:49:08.715555",
     "status": "completed"
    },
    "tags": []
   },
   "outputs": [],
   "source": [
    "train_df = pd.read_csv(\"/kaggle/input/playground-series-s5e2/train.csv\")\n",
    "test_df = pd.read_csv(\"/kaggle/input/playground-series-s5e2/test.csv\")\n",
    "train_df_extra = pd.read_csv(\"/kaggle/input/playground-series-s5e2/training_extra.csv\")\n"
   ]
  },
  {
   "cell_type": "markdown",
   "id": "90904a0a",
   "metadata": {
    "papermill": {
     "duration": 0.002874,
     "end_time": "2025-02-27T17:49:15.224748",
     "exception": false,
     "start_time": "2025-02-27T17:49:15.221874",
     "status": "completed"
    },
    "tags": []
   },
   "source": [
    "# Combine Datasets"
   ]
  },
  {
   "cell_type": "code",
   "execution_count": 4,
   "id": "63480a13",
   "metadata": {
    "execution": {
     "iopub.execute_input": "2025-02-27T17:49:15.231922Z",
     "iopub.status.busy": "2025-02-27T17:49:15.231690Z",
     "iopub.status.idle": "2025-02-27T17:49:15.496949Z",
     "shell.execute_reply": "2025-02-27T17:49:15.496114Z"
    },
    "papermill": {
     "duration": 0.270294,
     "end_time": "2025-02-27T17:49:15.498437",
     "exception": false,
     "start_time": "2025-02-27T17:49:15.228143",
     "status": "completed"
    },
    "tags": []
   },
   "outputs": [],
   "source": [
    "training_df = pd.concat([train_df, train_df_extra], ignore_index=True)"
   ]
  },
  {
   "cell_type": "markdown",
   "id": "90be19ae",
   "metadata": {
    "papermill": {
     "duration": 0.00326,
     "end_time": "2025-02-27T17:49:15.506191",
     "exception": false,
     "start_time": "2025-02-27T17:49:15.502931",
     "status": "completed"
    },
    "tags": []
   },
   "source": [
    "# Prepare Data"
   ]
  },
  {
   "cell_type": "code",
   "execution_count": 5,
   "id": "aea8026b",
   "metadata": {
    "execution": {
     "iopub.execute_input": "2025-02-27T17:49:15.515847Z",
     "iopub.status.busy": "2025-02-27T17:49:15.515542Z",
     "iopub.status.idle": "2025-02-27T17:49:15.826024Z",
     "shell.execute_reply": "2025-02-27T17:49:15.825226Z"
    },
    "papermill": {
     "duration": 0.317488,
     "end_time": "2025-02-27T17:49:15.827824",
     "exception": false,
     "start_time": "2025-02-27T17:49:15.510336",
     "status": "completed"
    },
    "tags": []
   },
   "outputs": [],
   "source": [
    "x = 500000\n",
    "selected_rows = training_df.iloc[:x, :]\n",
    "y = selected_rows[\"Price\"]\n",
    "X = selected_rows.drop(columns=[\"Price\", \"id\"])\n",
    "\n",
    "categorical_features = ['Brand', 'Material', 'Size', 'Laptop Compartment', 'Waterproof', 'Style', 'Color']\n",
    "X[categorical_features] = X[categorical_features].fillna(\"None\")\n",
    "test_df[categorical_features] = test_df[categorical_features].fillna(\"None\")\n",
    "\n",
    "numeric_features = [\"Compartments\", \"Weight Capacity (kg)\"]\n",
    "X[numeric_features] = X[numeric_features].fillna(X[numeric_features].mean())\n",
    "test_df[numeric_features] = test_df[numeric_features].fillna(test_df[numeric_features].mean())"
   ]
  },
  {
   "cell_type": "markdown",
   "id": "46359fa7",
   "metadata": {
    "papermill": {
     "duration": 0.004445,
     "end_time": "2025-02-27T17:49:15.837460",
     "exception": false,
     "start_time": "2025-02-27T17:49:15.833015",
     "status": "completed"
    },
    "tags": []
   },
   "source": [
    "# Preprocessing"
   ]
  },
  {
   "cell_type": "code",
   "execution_count": 6,
   "id": "d00168a1",
   "metadata": {
    "execution": {
     "iopub.execute_input": "2025-02-27T17:49:15.848390Z",
     "iopub.status.busy": "2025-02-27T17:49:15.848010Z",
     "iopub.status.idle": "2025-02-27T17:49:15.982153Z",
     "shell.execute_reply": "2025-02-27T17:49:15.981344Z"
    },
    "papermill": {
     "duration": 0.141455,
     "end_time": "2025-02-27T17:49:15.983732",
     "exception": false,
     "start_time": "2025-02-27T17:49:15.842277",
     "status": "completed"
    },
    "tags": []
   },
   "outputs": [],
   "source": [
    "preprocessor = ColumnTransformer(\n",
    "    transformers=[\n",
    "        (\"num\", StandardScaler(), numeric_features),\n",
    "        (\"cat\", OneHotEncoder(handle_unknown='ignore'), categorical_features)\n",
    "    ]\n",
    ")\n",
    "\n",
    "X_train, X_test, y_train, y_test = train_test_split(X, y, test_size=0.2, random_state=42)"
   ]
  },
  {
   "cell_type": "markdown",
   "id": "412782dd",
   "metadata": {
    "papermill": {
     "duration": 0.004423,
     "end_time": "2025-02-27T17:49:15.993274",
     "exception": false,
     "start_time": "2025-02-27T17:49:15.988851",
     "status": "completed"
    },
    "tags": []
   },
   "source": [
    "# Objective Function for Optuna"
   ]
  },
  {
   "cell_type": "code",
   "execution_count": 7,
   "id": "629fa21f",
   "metadata": {
    "execution": {
     "iopub.execute_input": "2025-02-27T17:49:16.003458Z",
     "iopub.status.busy": "2025-02-27T17:49:16.003197Z",
     "iopub.status.idle": "2025-02-27T17:49:16.008906Z",
     "shell.execute_reply": "2025-02-27T17:49:16.008248Z"
    },
    "papermill": {
     "duration": 0.011914,
     "end_time": "2025-02-27T17:49:16.009935",
     "exception": false,
     "start_time": "2025-02-27T17:49:15.998021",
     "status": "completed"
    },
    "tags": []
   },
   "outputs": [],
   "source": [
    "def objective(trial):\n",
    "    model_type = trial.suggest_categorical(\"model_type\", [\"XGBoost\", \"CatBoost\"])\n",
    "\n",
    "    if model_type == \"XGBoost\":\n",
    "        params = {\n",
    "            \"n_estimators\": trial.suggest_int(\"n_estimators\", 100, 1000, step=50),\n",
    "            \"learning_rate\": trial.suggest_float(\"learning_rate\", 0.01, 0.2, log=True),\n",
    "            \"max_depth\": trial.suggest_int(\"max_depth\", 3, 10),\n",
    "            \"subsample\": trial.suggest_float(\"subsample\", 0.5, 1.0),\n",
    "            \"colsample_bytree\": trial.suggest_float(\"colsample_bytree\", 0.5, 1.0),\n",
    "            \"reg_lambda\": trial.suggest_float(\"reg_lambda\", 1e-3, 10.0, log=True),\n",
    "            \"reg_alpha\": trial.suggest_float(\"reg_alpha\", 1e-3, 10.0, log=True),\n",
    "            \"min_child_weight\": trial.suggest_int(\"min_child_weight\", 1, 10)\n",
    "        }\n",
    "        model = XGBRegressor(**params)\n",
    "\n",
    "    else:  \n",
    "        params = {\n",
    "            \"iterations\": trial.suggest_int(\"iterations\", 100, 1000, step=50),\n",
    "            \"learning_rate\": trial.suggest_float(\"learning_rate\", 0.01, 0.2, log=True),\n",
    "            \"depth\": trial.suggest_int(\"depth\", 3, 10),\n",
    "            \"l2_leaf_reg\": trial.suggest_float(\"l2_leaf_reg\", 1e-3, 10.0, log=True),\n",
    "            \"random_strength\": trial.suggest_float(\"random_strength\", 1e-3, 10.0, log=True),\n",
    "        }\n",
    "        model = CatBoostRegressor(**params, verbose=0)\n",
    "\n",
    "    pipeline = Pipeline(steps=[\n",
    "        (\"preprocessor\", preprocessor),\n",
    "        (\"regressor\", model)\n",
    "    ])\n",
    "\n",
    "    rmse_scores = cross_val_score(pipeline, X_train, y_train, scoring='neg_root_mean_squared_error', cv=5)\n",
    "    return -rmse_scores.mean()  "
   ]
  },
  {
   "cell_type": "markdown",
   "id": "4af5f359",
   "metadata": {
    "papermill": {
     "duration": 0.002857,
     "end_time": "2025-02-27T17:49:16.016204",
     "exception": false,
     "start_time": "2025-02-27T17:49:16.013347",
     "status": "completed"
    },
    "tags": []
   },
   "source": [
    "# Run Optuna to optimize the model"
   ]
  },
  {
   "cell_type": "code",
   "execution_count": 8,
   "id": "1b3d8b63",
   "metadata": {
    "execution": {
     "iopub.execute_input": "2025-02-27T17:49:16.023224Z",
     "iopub.status.busy": "2025-02-27T17:49:16.022934Z",
     "iopub.status.idle": "2025-02-27T18:18:39.222313Z",
     "shell.execute_reply": "2025-02-27T18:18:39.221491Z"
    },
    "papermill": {
     "duration": 1763.208391,
     "end_time": "2025-02-27T18:18:39.227676",
     "exception": false,
     "start_time": "2025-02-27T17:49:16.019285",
     "status": "completed"
    },
    "tags": []
   },
   "outputs": [
    {
     "name": "stderr",
     "output_type": "stream",
     "text": [
      "[I 2025-02-27 17:49:16,024] A new study created in memory with name: no-name-e8e7c2f3-e33b-46c0-b205-4b7cf6fce34d\n",
      "[I 2025-02-27 17:49:31,971] Trial 0 finished with value: 38.94788660725072 and parameters: {'model_type': 'XGBoost', 'n_estimators': 200, 'learning_rate': 0.01741317840180417, 'max_depth': 6, 'subsample': 0.9631240798189427, 'colsample_bytree': 0.6709908044916231, 'reg_lambda': 0.0032528142326923412, 'reg_alpha': 0.04260306838472462, 'min_child_weight': 8}. Best is trial 0 with value: 38.94788660725072.\n",
      "[I 2025-02-27 17:50:13,445] Trial 1 finished with value: 38.95534440606983 and parameters: {'model_type': 'CatBoost', 'iterations': 450, 'learning_rate': 0.010462397041003189, 'depth': 7, 'l2_leaf_reg': 0.0047004514154657655, 'random_strength': 7.947772542386924}. Best is trial 0 with value: 38.94788660725072.\n",
      "[I 2025-02-27 17:50:25,852] Trial 2 finished with value: 38.97349075744159 and parameters: {'model_type': 'XGBoost', 'n_estimators': 100, 'learning_rate': 0.05578388412205219, 'max_depth': 8, 'subsample': 0.6848133479231443, 'colsample_bytree': 0.8695468531092858, 'reg_lambda': 0.0041652987457474755, 'reg_alpha': 1.6352381350661584, 'min_child_weight': 7}. Best is trial 0 with value: 38.94788660725072.\n",
      "[I 2025-02-27 17:51:52,578] Trial 3 finished with value: 39.14883985253313 and parameters: {'model_type': 'CatBoost', 'iterations': 850, 'learning_rate': 0.10187994414669412, 'depth': 8, 'l2_leaf_reg': 0.004469872323711359, 'random_strength': 0.5516478883918606}. Best is trial 0 with value: 38.94788660725072.\n",
      "[I 2025-02-27 17:52:46,456] Trial 4 finished with value: 39.20488039958046 and parameters: {'model_type': 'XGBoost', 'n_estimators': 800, 'learning_rate': 0.11167841706586062, 'max_depth': 6, 'subsample': 0.8586492538675752, 'colsample_bytree': 0.6670239179513856, 'reg_lambda': 1.2029449539829977, 'reg_alpha': 0.09515563632748118, 'min_child_weight': 2}. Best is trial 0 with value: 38.94788660725072.\n",
      "[I 2025-02-27 17:54:00,542] Trial 5 finished with value: 39.33255498032321 and parameters: {'model_type': 'CatBoost', 'iterations': 700, 'learning_rate': 0.19350313427253332, 'depth': 8, 'l2_leaf_reg': 0.30490172841288715, 'random_strength': 0.10022035091318968}. Best is trial 0 with value: 38.94788660725072.\n",
      "[I 2025-02-27 17:54:38,100] Trial 6 finished with value: 39.56055578780855 and parameters: {'model_type': 'XGBoost', 'n_estimators': 350, 'learning_rate': 0.1587144624793734, 'max_depth': 8, 'subsample': 0.6779085783741146, 'colsample_bytree': 0.5308087480309093, 'reg_lambda': 0.028615629647519708, 'reg_alpha': 0.005405569722015453, 'min_child_weight': 5}. Best is trial 0 with value: 38.94788660725072.\n",
      "[I 2025-02-27 17:55:08,308] Trial 7 finished with value: 38.97485727340701 and parameters: {'model_type': 'XGBoost', 'n_estimators': 500, 'learning_rate': 0.06522103760863102, 'max_depth': 5, 'subsample': 0.7500348293937842, 'colsample_bytree': 0.5462108222962172, 'reg_lambda': 0.5656742312249518, 'reg_alpha': 0.0020079067994807688, 'min_child_weight': 2}. Best is trial 0 with value: 38.94788660725072.\n",
      "[I 2025-02-27 17:55:18,661] Trial 8 finished with value: 38.94784088665777 and parameters: {'model_type': 'XGBoost', 'n_estimators': 200, 'learning_rate': 0.033587157125289625, 'max_depth': 3, 'subsample': 0.5254283156462403, 'colsample_bytree': 0.9285257534100079, 'reg_lambda': 0.1295998899413381, 'reg_alpha': 0.45344028058710445, 'min_child_weight': 8}. Best is trial 8 with value: 38.94784088665777.\n",
      "[I 2025-02-27 17:55:46,859] Trial 9 finished with value: 38.94670394993345 and parameters: {'model_type': 'CatBoost', 'iterations': 250, 'learning_rate': 0.023558168123442094, 'depth': 8, 'l2_leaf_reg': 0.25933179699394776, 'random_strength': 0.018049383557838174}. Best is trial 9 with value: 38.94670394993345.\n",
      "[I 2025-02-27 17:55:57,235] Trial 10 finished with value: 38.95674314798114 and parameters: {'model_type': 'CatBoost', 'iterations': 100, 'learning_rate': 0.02653593533511176, 'depth': 4, 'l2_leaf_reg': 9.306723395454553, 'random_strength': 0.0014498769821065624}. Best is trial 9 with value: 38.94670394993345.\n",
      "[I 2025-02-27 17:56:40,196] Trial 11 finished with value: 38.9656730954182 and parameters: {'model_type': 'CatBoost', 'iterations': 250, 'learning_rate': 0.029876070319179066, 'depth': 10, 'l2_leaf_reg': 0.30872168062936195, 'random_strength': 0.002411070272326874}. Best is trial 9 with value: 38.94670394993345.\n",
      "[I 2025-02-27 17:57:10,196] Trial 12 finished with value: 38.94453474787902 and parameters: {'model_type': 'CatBoost', 'iterations': 400, 'learning_rate': 0.03308766499464962, 'depth': 4, 'l2_leaf_reg': 4.928469537612027, 'random_strength': 0.024528133055098447}. Best is trial 12 with value: 38.94453474787902.\n",
      "[I 2025-02-27 17:57:37,642] Trial 13 finished with value: 38.951550717966015 and parameters: {'model_type': 'CatBoost', 'iterations': 400, 'learning_rate': 0.017840872466309592, 'depth': 3, 'l2_leaf_reg': 9.182640569068875, 'random_strength': 0.01920980874972427}. Best is trial 12 with value: 38.94453474787902.\n",
      "[I 2025-02-27 17:58:02,881] Trial 14 finished with value: 38.94821136726541 and parameters: {'model_type': 'CatBoost', 'iterations': 300, 'learning_rate': 0.016645032545482177, 'depth': 5, 'l2_leaf_reg': 1.1304677083876327, 'random_strength': 0.02890315760943015}. Best is trial 12 with value: 38.94453474787902.\n",
      "[I 2025-02-27 17:58:54,455] Trial 15 finished with value: 38.94786492069274 and parameters: {'model_type': 'CatBoost', 'iterations': 600, 'learning_rate': 0.041816213519594865, 'depth': 6, 'l2_leaf_reg': 0.030013681394845976, 'random_strength': 0.017326542759508196}. Best is trial 12 with value: 38.94453474787902.\n",
      "[I 2025-02-27 17:59:13,786] Trial 16 finished with value: 38.95530371426129 and parameters: {'model_type': 'CatBoost', 'iterations': 100, 'learning_rate': 0.024905317710419317, 'depth': 10, 'l2_leaf_reg': 1.3134025559093745, 'random_strength': 0.19128392327391117}. Best is trial 12 with value: 38.94453474787902.\n",
      "[I 2025-02-27 17:59:35,665] Trial 17 finished with value: 38.95810471416295 and parameters: {'model_type': 'CatBoost', 'iterations': 300, 'learning_rate': 0.010777172822448423, 'depth': 3, 'l2_leaf_reg': 0.03575207671296739, 'random_strength': 0.0073927444855777635}. Best is trial 12 with value: 38.94453474787902.\n",
      "[I 2025-02-27 18:00:29,222] Trial 18 finished with value: 38.97060489364793 and parameters: {'model_type': 'CatBoost', 'iterations': 500, 'learning_rate': 0.0511505713920759, 'depth': 8, 'l2_leaf_reg': 1.7822022642810655, 'random_strength': 1.0695425386543624}. Best is trial 12 with value: 38.94453474787902.\n",
      "[I 2025-02-27 18:01:25,096] Trial 19 finished with value: 38.975225298430544 and parameters: {'model_type': 'CatBoost', 'iterations': 650, 'learning_rate': 0.0851823617787137, 'depth': 6, 'l2_leaf_reg': 0.09750892958553367, 'random_strength': 0.004685884053021686}. Best is trial 12 with value: 38.94453474787902.\n",
      "[I 2025-02-27 18:02:40,586] Trial 20 finished with value: 38.94834512992095 and parameters: {'model_type': 'CatBoost', 'iterations': 1000, 'learning_rate': 0.041736694284508005, 'depth': 5, 'l2_leaf_reg': 3.062103321038206, 'random_strength': 0.04103607956679805}. Best is trial 12 with value: 38.94453474787902.\n",
      "[I 2025-02-27 18:03:18,136] Trial 21 finished with value: 38.94786263653377 and parameters: {'model_type': 'XGBoost', 'n_estimators': 1000, 'learning_rate': 0.034045044178417784, 'max_depth': 3, 'subsample': 0.5030280664368463, 'colsample_bytree': 0.9875989692385608, 'reg_lambda': 9.351263825476835, 'reg_alpha': 9.686537998982931, 'min_child_weight': 10}. Best is trial 12 with value: 38.94453474787902.\n",
      "[I 2025-02-27 18:03:42,275] Trial 22 finished with value: 38.944394075192804 and parameters: {'model_type': 'XGBoost', 'n_estimators': 600, 'learning_rate': 0.022134019987294366, 'max_depth': 3, 'subsample': 0.5212348450091111, 'colsample_bytree': 0.8841634553791541, 'reg_lambda': 0.05728937247498969, 'reg_alpha': 0.834421078116219, 'min_child_weight': 5}. Best is trial 22 with value: 38.944394075192804.\n",
      "[I 2025-02-27 18:05:26,850] Trial 23 finished with value: 39.241708193007 and parameters: {'model_type': 'XGBoost', 'n_estimators': 700, 'learning_rate': 0.021273003817011304, 'max_depth': 10, 'subsample': 0.6073975236332811, 'colsample_bytree': 0.8185037622539524, 'reg_lambda': 0.034793244511192686, 'reg_alpha': 0.8409142039917515, 'min_child_weight': 4}. Best is trial 22 with value: 38.944394075192804.\n",
      "[I 2025-02-27 18:05:53,887] Trial 24 finished with value: 38.94359576706646 and parameters: {'model_type': 'XGBoost', 'n_estimators': 550, 'learning_rate': 0.020985683581413263, 'max_depth': 4, 'subsample': 0.8160141278910036, 'colsample_bytree': 0.7643381304353556, 'reg_lambda': 0.001164404193356557, 'reg_alpha': 6.990440453181393, 'min_child_weight': 4}. Best is trial 24 with value: 38.94359576706646.\n",
      "[I 2025-02-27 18:06:20,706] Trial 25 finished with value: 38.944404517414135 and parameters: {'model_type': 'XGBoost', 'n_estimators': 550, 'learning_rate': 0.013907572355448239, 'max_depth': 4, 'subsample': 0.8286841428025762, 'colsample_bytree': 0.7712573021795658, 'reg_lambda': 0.0013029875104191401, 'reg_alpha': 7.585752611334711, 'min_child_weight': 4}. Best is trial 24 with value: 38.94359576706646.\n",
      "[I 2025-02-27 18:06:46,814] Trial 26 finished with value: 38.94446993468059 and parameters: {'model_type': 'XGBoost', 'n_estimators': 550, 'learning_rate': 0.01345847061646812, 'max_depth': 4, 'subsample': 0.8232775660366459, 'colsample_bytree': 0.7505525036029864, 'reg_lambda': 0.001138410302208213, 'reg_alpha': 7.970012499752544, 'min_child_weight': 4}. Best is trial 24 with value: 38.94359576706646.\n",
      "[I 2025-02-27 18:07:19,432] Trial 27 finished with value: 38.94368035880084 and parameters: {'model_type': 'XGBoost', 'n_estimators': 700, 'learning_rate': 0.013985886377761962, 'max_depth': 4, 'subsample': 0.8430505520424768, 'colsample_bytree': 0.7824282436175427, 'reg_lambda': 0.0013628093684358972, 'reg_alpha': 2.5937622877194353, 'min_child_weight': 4}. Best is trial 24 with value: 38.94359576706646.\n",
      "[I 2025-02-27 18:07:53,161] Trial 28 finished with value: 38.94457413419317 and parameters: {'model_type': 'XGBoost', 'n_estimators': 750, 'learning_rate': 0.013273057577870144, 'max_depth': 4, 'subsample': 0.883091916500643, 'colsample_bytree': 0.8541436772156153, 'reg_lambda': 0.009382846953698877, 'reg_alpha': 1.6807388190203139, 'min_child_weight': 6}. Best is trial 24 with value: 38.94359576706646.\n",
      "[I 2025-02-27 18:08:18,334] Trial 29 finished with value: 38.94487863448784 and parameters: {'model_type': 'XGBoost', 'n_estimators': 650, 'learning_rate': 0.018462356688183003, 'max_depth': 3, 'subsample': 0.7622466389516076, 'colsample_bytree': 0.6834987467442608, 'reg_lambda': 0.010274678819957122, 'reg_alpha': 2.3871974397439897, 'min_child_weight': 3}. Best is trial 24 with value: 38.94359576706646.\n",
      "[I 2025-02-27 18:08:41,419] Trial 30 finished with value: 38.944922726909574 and parameters: {'model_type': 'XGBoost', 'n_estimators': 400, 'learning_rate': 0.018223637800211537, 'max_depth': 5, 'subsample': 0.941221718934087, 'colsample_bytree': 0.8072242102061377, 'reg_lambda': 0.15046838888683317, 'reg_alpha': 0.31700815285445694, 'min_child_weight': 5}. Best is trial 24 with value: 38.94359576706646.\n",
      "[I 2025-02-27 18:09:09,779] Trial 31 finished with value: 38.94410512312156 and parameters: {'model_type': 'XGBoost', 'n_estimators': 600, 'learning_rate': 0.013827864969144172, 'max_depth': 4, 'subsample': 0.8107131763143842, 'colsample_bytree': 0.7519622431758533, 'reg_lambda': 0.0010767341135914123, 'reg_alpha': 5.0576113420999596, 'min_child_weight': 4}. Best is trial 24 with value: 38.94359576706646.\n",
      "[I 2025-02-27 18:09:41,371] Trial 32 finished with value: 38.94481173343885 and parameters: {'model_type': 'XGBoost', 'n_estimators': 650, 'learning_rate': 0.011254934122898822, 'max_depth': 4, 'subsample': 0.7959879416340209, 'colsample_bytree': 0.7129179544798243, 'reg_lambda': 0.001003073856926613, 'reg_alpha': 3.6628125175697406, 'min_child_weight': 3}. Best is trial 24 with value: 38.94359576706646.\n",
      "[I 2025-02-27 18:10:29,429] Trial 33 finished with value: 38.948493404625495 and parameters: {'model_type': 'XGBoost', 'n_estimators': 900, 'learning_rate': 0.014335193776890031, 'max_depth': 5, 'subsample': 0.8948762618182922, 'colsample_bytree': 0.908970042548943, 'reg_lambda': 0.003334465385210042, 'reg_alpha': 3.830818844013617, 'min_child_weight': 6}. Best is trial 24 with value: 38.94359576706646.\n",
      "[I 2025-02-27 18:10:48,616] Trial 34 finished with value: 38.94595044446032 and parameters: {'model_type': 'XGBoost', 'n_estimators': 450, 'learning_rate': 0.02092190440248481, 'max_depth': 3, 'subsample': 0.7222406089524552, 'colsample_bytree': 0.7787113605040408, 'reg_lambda': 0.0029475654794133463, 'reg_alpha': 0.8499685480236318, 'min_child_weight': 4}. Best is trial 24 with value: 38.94359576706646.\n",
      "[I 2025-02-27 18:11:17,184] Trial 35 finished with value: 38.945696616249634 and parameters: {'model_type': 'XGBoost', 'n_estimators': 600, 'learning_rate': 0.01028519170985469, 'max_depth': 4, 'subsample': 0.7972772954669989, 'colsample_bytree': 0.7180960503124086, 'reg_lambda': 0.010427001390076959, 'reg_alpha': 3.472529257170723, 'min_child_weight': 1}. Best is trial 24 with value: 38.94359576706646.\n",
      "[I 2025-02-27 18:12:04,972] Trial 36 finished with value: 38.94444791524997 and parameters: {'model_type': 'XGBoost', 'n_estimators': 800, 'learning_rate': 0.012239314873381837, 'max_depth': 5, 'subsample': 0.5988240239096156, 'colsample_bytree': 0.6329438289978194, 'reg_lambda': 0.0022125827816132353, 'reg_alpha': 0.3511959527886408, 'min_child_weight': 5}. Best is trial 24 with value: 38.94359576706646.\n",
      "[I 2025-02-27 18:12:28,381] Trial 37 finished with value: 38.94616009919461 and parameters: {'model_type': 'XGBoost', 'n_estimators': 600, 'learning_rate': 0.01660806483192573, 'max_depth': 3, 'subsample': 0.8949324490567049, 'colsample_bytree': 0.8273624270735268, 'reg_lambda': 0.03418760145256799, 'reg_alpha': 1.0830129393464898, 'min_child_weight': 3}. Best is trial 24 with value: 38.94359576706646.\n",
      "[I 2025-02-27 18:13:01,408] Trial 38 finished with value: 38.94342527214543 and parameters: {'model_type': 'XGBoost', 'n_estimators': 700, 'learning_rate': 0.014866156138676145, 'max_depth': 4, 'subsample': 0.8468415621733095, 'colsample_bytree': 0.8955732311163208, 'reg_lambda': 0.00927207627481951, 'reg_alpha': 3.900209627613867, 'min_child_weight': 6}. Best is trial 38 with value: 38.94342527214543.\n",
      "[I 2025-02-27 18:13:43,633] Trial 39 finished with value: 38.94752416472708 and parameters: {'model_type': 'XGBoost', 'n_estimators': 750, 'learning_rate': 0.015666657887541513, 'max_depth': 5, 'subsample': 0.8460138066438445, 'colsample_bytree': 0.9699244818550339, 'reg_lambda': 0.005554161943730835, 'reg_alpha': 4.350484156928528, 'min_child_weight': 6}. Best is trial 38 with value: 38.94342527214543.\n",
      "[I 2025-02-27 18:14:54,204] Trial 40 finished with value: 38.96253256254668 and parameters: {'model_type': 'XGBoost', 'n_estimators': 850, 'learning_rate': 0.012537855187745691, 'max_depth': 7, 'subsample': 0.7851963029766931, 'colsample_bytree': 0.6266810408702581, 'reg_lambda': 0.0016501093733336369, 'reg_alpha': 8.516805803838437, 'min_child_weight': 7}. Best is trial 38 with value: 38.94342527214543.\n",
      "[I 2025-02-27 18:15:24,867] Trial 41 finished with value: 38.94442071778711 and parameters: {'model_type': 'XGBoost', 'n_estimators': 650, 'learning_rate': 0.02024981117613989, 'max_depth': 4, 'subsample': 0.9156732230608846, 'colsample_bytree': 0.9028047807763845, 'reg_lambda': 0.017459505110097594, 'reg_alpha': 2.207139856213248, 'min_child_weight': 5}. Best is trial 38 with value: 38.94342527214543.\n",
      "[I 2025-02-27 18:15:49,410] Trial 42 finished with value: 38.94385517510655 and parameters: {'model_type': 'XGBoost', 'n_estimators': 500, 'learning_rate': 0.028263045053230247, 'max_depth': 4, 'subsample': 0.8547314334307033, 'colsample_bytree': 0.7910042144833674, 'reg_lambda': 0.07077238758725016, 'reg_alpha': 4.6511122644935705, 'min_child_weight': 4}. Best is trial 38 with value: 38.94342527214543.\n",
      "[I 2025-02-27 18:16:12,237] Trial 43 finished with value: 38.94364093830984 and parameters: {'model_type': 'XGBoost', 'n_estimators': 450, 'learning_rate': 0.029582334558055447, 'max_depth': 4, 'subsample': 0.8429289145932034, 'colsample_bytree': 0.7908443419936356, 'reg_lambda': 0.006032304148151784, 'reg_alpha': 4.842049292440359, 'min_child_weight': 3}. Best is trial 38 with value: 38.94342527214543.\n",
      "[I 2025-02-27 18:16:33,987] Trial 44 finished with value: 38.94792746681467 and parameters: {'model_type': 'XGBoost', 'n_estimators': 350, 'learning_rate': 0.028092715525859655, 'max_depth': 5, 'subsample': 0.997456597884387, 'colsample_bytree': 0.788182735300682, 'reg_lambda': 0.007097813358865655, 'reg_alpha': 2.497102974203694, 'min_child_weight': 3}. Best is trial 38 with value: 38.94342527214543.\n",
      "[I 2025-02-27 18:16:55,810] Trial 45 finished with value: 38.94550580226773 and parameters: {'model_type': 'XGBoost', 'n_estimators': 450, 'learning_rate': 0.037676394700337124, 'max_depth': 4, 'subsample': 0.8583234042245599, 'colsample_bytree': 0.841560795244322, 'reg_lambda': 0.26110767920011163, 'reg_alpha': 5.404893920956339, 'min_child_weight': 2}. Best is trial 38 with value: 38.94342527214543.\n",
      "[I 2025-02-27 18:17:30,591] Trial 46 finished with value: 38.96315317472593 and parameters: {'model_type': 'XGBoost', 'n_estimators': 500, 'learning_rate': 0.029942153091260585, 'max_depth': 6, 'subsample': 0.9329163809609805, 'colsample_bytree': 0.7140739641652458, 'reg_lambda': 0.0022136493128878405, 'reg_alpha': 0.04734506906161036, 'min_child_weight': 3}. Best is trial 38 with value: 38.94342527214543.\n",
      "[I 2025-02-27 18:17:48,479] Trial 47 finished with value: 38.94587622579147 and parameters: {'model_type': 'XGBoost', 'n_estimators': 350, 'learning_rate': 0.049680142343575304, 'max_depth': 4, 'subsample': 0.8620913027237517, 'colsample_bytree': 0.8009668570614084, 'reg_lambda': 0.0178272941048082, 'reg_alpha': 1.3621962565989147, 'min_child_weight': 4}. Best is trial 38 with value: 38.94342527214543.\n",
      "[I 2025-02-27 18:18:08,983] Trial 48 finished with value: 38.946247956075226 and parameters: {'model_type': 'XGBoost', 'n_estimators': 250, 'learning_rate': 0.02595766774527231, 'max_depth': 6, 'subsample': 0.8334547963759963, 'colsample_bytree': 0.7436749664999904, 'reg_lambda': 0.0045545464024283906, 'reg_alpha': 0.015084864380713386, 'min_child_weight': 7}. Best is trial 38 with value: 38.94342527214543.\n",
      "[I 2025-02-27 18:18:39,217] Trial 49 finished with value: 38.94718204097571 and parameters: {'model_type': 'XGBoost', 'n_estimators': 500, 'learning_rate': 0.02359049606890105, 'max_depth': 5, 'subsample': 0.8805058728176609, 'colsample_bytree': 0.8656552139201621, 'reg_lambda': 0.003709017869290371, 'reg_alpha': 2.697825881762992, 'min_child_weight': 1}. Best is trial 38 with value: 38.94342527214543.\n"
     ]
    },
    {
     "name": "stdout",
     "output_type": "stream",
     "text": [
      "Best Hyperparameters: {'model_type': 'XGBoost', 'n_estimators': 700, 'learning_rate': 0.014866156138676145, 'max_depth': 4, 'subsample': 0.8468415621733095, 'colsample_bytree': 0.8955732311163208, 'reg_lambda': 0.00927207627481951, 'reg_alpha': 3.900209627613867, 'min_child_weight': 6}\n"
     ]
    }
   ],
   "source": [
    "study = optuna.create_study(direction=\"minimize\")  \n",
    "study.optimize(objective, n_trials=50) \n",
    "\n",
    "\n",
    "print(\"Best Hyperparameters:\", study.best_params)"
   ]
  },
  {
   "cell_type": "markdown",
   "id": "9232587b",
   "metadata": {
    "papermill": {
     "duration": 0.00482,
     "end_time": "2025-02-27T18:18:39.238206",
     "exception": false,
     "start_time": "2025-02-27T18:18:39.233386",
     "status": "completed"
    },
    "tags": []
   },
   "source": [
    "# Train Final Model"
   ]
  },
  {
   "cell_type": "code",
   "execution_count": 9,
   "id": "09fa75c9",
   "metadata": {
    "execution": {
     "iopub.execute_input": "2025-02-27T18:18:39.249690Z",
     "iopub.status.busy": "2025-02-27T18:18:39.249390Z",
     "iopub.status.idle": "2025-02-27T18:18:39.254854Z",
     "shell.execute_reply": "2025-02-27T18:18:39.253919Z"
    },
    "papermill": {
     "duration": 0.013528,
     "end_time": "2025-02-27T18:18:39.256901",
     "exception": false,
     "start_time": "2025-02-27T18:18:39.243373",
     "status": "completed"
    },
    "tags": []
   },
   "outputs": [],
   "source": [
    "best_params = study.best_params\n",
    "final_model_type = best_params.pop(\"model_type\")\n",
    "\n",
    "\n",
    "models = []\n",
    "if final_model_type == \"XGBoost\":\n",
    "    models.append(XGBRegressor(**best_params))\n",
    "else:  # CatBoost\n",
    "    models.append(CatBoostRegressor(**best_params, verbose=0))\n",
    "\n",
    "\n",
    "models.append(XGBRegressor(n_estimators=100, learning_rate=0.1))\n",
    "models.append(CatBoostRegressor(iterations=100, learning_rate=0.1, verbose=0))\n",
    "\n",
    "\n",
    "voting_model = VotingRegressor(estimators=[(f'model_{i}', model) for i, model in enumerate(models)])\n",
    "voting_pipeline = Pipeline(steps=[\n",
    "    (\"preprocessor\", preprocessor),\n",
    "    (\"regressor\", voting_model)\n",
    "])"
   ]
  },
  {
   "cell_type": "markdown",
   "id": "628ea0a9",
   "metadata": {
    "papermill": {
     "duration": 0.004988,
     "end_time": "2025-02-27T18:18:39.268452",
     "exception": false,
     "start_time": "2025-02-27T18:18:39.263464",
     "status": "completed"
    },
    "tags": []
   },
   "source": [
    "# Train Voting Regressor"
   ]
  },
  {
   "cell_type": "code",
   "execution_count": 10,
   "id": "f00603a9",
   "metadata": {
    "execution": {
     "iopub.execute_input": "2025-02-27T18:18:39.280020Z",
     "iopub.status.busy": "2025-02-27T18:18:39.279685Z",
     "iopub.status.idle": "2025-02-27T18:18:50.433998Z",
     "shell.execute_reply": "2025-02-27T18:18:50.433193Z"
    },
    "papermill": {
     "duration": 11.161861,
     "end_time": "2025-02-27T18:18:50.435491",
     "exception": false,
     "start_time": "2025-02-27T18:18:39.273630",
     "status": "completed"
    },
    "tags": []
   },
   "outputs": [
    {
     "data": {
      "text/html": [
       "<style>#sk-container-id-1 {color: black;background-color: white;}#sk-container-id-1 pre{padding: 0;}#sk-container-id-1 div.sk-toggleable {background-color: white;}#sk-container-id-1 label.sk-toggleable__label {cursor: pointer;display: block;width: 100%;margin-bottom: 0;padding: 0.3em;box-sizing: border-box;text-align: center;}#sk-container-id-1 label.sk-toggleable__label-arrow:before {content: \"▸\";float: left;margin-right: 0.25em;color: #696969;}#sk-container-id-1 label.sk-toggleable__label-arrow:hover:before {color: black;}#sk-container-id-1 div.sk-estimator:hover label.sk-toggleable__label-arrow:before {color: black;}#sk-container-id-1 div.sk-toggleable__content {max-height: 0;max-width: 0;overflow: hidden;text-align: left;background-color: #f0f8ff;}#sk-container-id-1 div.sk-toggleable__content pre {margin: 0.2em;color: black;border-radius: 0.25em;background-color: #f0f8ff;}#sk-container-id-1 input.sk-toggleable__control:checked~div.sk-toggleable__content {max-height: 200px;max-width: 100%;overflow: auto;}#sk-container-id-1 input.sk-toggleable__control:checked~label.sk-toggleable__label-arrow:before {content: \"▾\";}#sk-container-id-1 div.sk-estimator input.sk-toggleable__control:checked~label.sk-toggleable__label {background-color: #d4ebff;}#sk-container-id-1 div.sk-label input.sk-toggleable__control:checked~label.sk-toggleable__label {background-color: #d4ebff;}#sk-container-id-1 input.sk-hidden--visually {border: 0;clip: rect(1px 1px 1px 1px);clip: rect(1px, 1px, 1px, 1px);height: 1px;margin: -1px;overflow: hidden;padding: 0;position: absolute;width: 1px;}#sk-container-id-1 div.sk-estimator {font-family: monospace;background-color: #f0f8ff;border: 1px dotted black;border-radius: 0.25em;box-sizing: border-box;margin-bottom: 0.5em;}#sk-container-id-1 div.sk-estimator:hover {background-color: #d4ebff;}#sk-container-id-1 div.sk-parallel-item::after {content: \"\";width: 100%;border-bottom: 1px solid gray;flex-grow: 1;}#sk-container-id-1 div.sk-label:hover label.sk-toggleable__label {background-color: #d4ebff;}#sk-container-id-1 div.sk-serial::before {content: \"\";position: absolute;border-left: 1px solid gray;box-sizing: border-box;top: 0;bottom: 0;left: 50%;z-index: 0;}#sk-container-id-1 div.sk-serial {display: flex;flex-direction: column;align-items: center;background-color: white;padding-right: 0.2em;padding-left: 0.2em;position: relative;}#sk-container-id-1 div.sk-item {position: relative;z-index: 1;}#sk-container-id-1 div.sk-parallel {display: flex;align-items: stretch;justify-content: center;background-color: white;position: relative;}#sk-container-id-1 div.sk-item::before, #sk-container-id-1 div.sk-parallel-item::before {content: \"\";position: absolute;border-left: 1px solid gray;box-sizing: border-box;top: 0;bottom: 0;left: 50%;z-index: -1;}#sk-container-id-1 div.sk-parallel-item {display: flex;flex-direction: column;z-index: 1;position: relative;background-color: white;}#sk-container-id-1 div.sk-parallel-item:first-child::after {align-self: flex-end;width: 50%;}#sk-container-id-1 div.sk-parallel-item:last-child::after {align-self: flex-start;width: 50%;}#sk-container-id-1 div.sk-parallel-item:only-child::after {width: 0;}#sk-container-id-1 div.sk-dashed-wrapped {border: 1px dashed gray;margin: 0 0.4em 0.5em 0.4em;box-sizing: border-box;padding-bottom: 0.4em;background-color: white;}#sk-container-id-1 div.sk-label label {font-family: monospace;font-weight: bold;display: inline-block;line-height: 1.2em;}#sk-container-id-1 div.sk-label-container {text-align: center;}#sk-container-id-1 div.sk-container {/* jupyter's `normalize.less` sets `[hidden] { display: none; }` but bootstrap.min.css set `[hidden] { display: none !important; }` so we also need the `!important` here to be able to override the default hidden behavior on the sphinx rendered scikit-learn.org. See: https://github.com/scikit-learn/scikit-learn/issues/21755 */display: inline-block !important;position: relative;}#sk-container-id-1 div.sk-text-repr-fallback {display: none;}</style><div id=\"sk-container-id-1\" class=\"sk-top-container\"><div class=\"sk-text-repr-fallback\"><pre>Pipeline(steps=[(&#x27;preprocessor&#x27;,\n",
       "                 ColumnTransformer(transformers=[(&#x27;num&#x27;, StandardScaler(),\n",
       "                                                  [&#x27;Compartments&#x27;,\n",
       "                                                   &#x27;Weight Capacity (kg)&#x27;]),\n",
       "                                                 (&#x27;cat&#x27;,\n",
       "                                                  OneHotEncoder(handle_unknown=&#x27;ignore&#x27;),\n",
       "                                                  [&#x27;Brand&#x27;, &#x27;Material&#x27;, &#x27;Size&#x27;,\n",
       "                                                   &#x27;Laptop Compartment&#x27;,\n",
       "                                                   &#x27;Waterproof&#x27;, &#x27;Style&#x27;,\n",
       "                                                   &#x27;Color&#x27;])])),\n",
       "                (&#x27;regressor&#x27;,\n",
       "                 VotingRegressor(estimators=[(&#x27;model_0&#x27;,\n",
       "                                              XGBRegressor(base_score=None,\n",
       "                                                           booster=None,\n",
       "                                                           ca...\n",
       "                                                           learning_rate=0.1,\n",
       "                                                           max_bin=None,\n",
       "                                                           max_cat_threshold=None,\n",
       "                                                           max_cat_to_onehot=None,\n",
       "                                                           max_delta_step=None,\n",
       "                                                           max_depth=None,\n",
       "                                                           max_leaves=None,\n",
       "                                                           min_child_weight=None,\n",
       "                                                           missing=nan,\n",
       "                                                           monotone_constraints=None,\n",
       "                                                           multi_strategy=None,\n",
       "                                                           n_estimators=100,\n",
       "                                                           n_jobs=None,\n",
       "                                                           num_parallel_tree=None,\n",
       "                                                           random_state=None, ...)),\n",
       "                                             (&#x27;model_2&#x27;,\n",
       "                                              &lt;catboost.core.CatBoostRegressor object at 0x7d296e31b070&gt;)]))])</pre><b>In a Jupyter environment, please rerun this cell to show the HTML representation or trust the notebook. <br />On GitHub, the HTML representation is unable to render, please try loading this page with nbviewer.org.</b></div><div class=\"sk-container\" hidden><div class=\"sk-item sk-dashed-wrapped\"><div class=\"sk-label-container\"><div class=\"sk-label sk-toggleable\"><input class=\"sk-toggleable__control sk-hidden--visually\" id=\"sk-estimator-id-1\" type=\"checkbox\" ><label for=\"sk-estimator-id-1\" class=\"sk-toggleable__label sk-toggleable__label-arrow\">Pipeline</label><div class=\"sk-toggleable__content\"><pre>Pipeline(steps=[(&#x27;preprocessor&#x27;,\n",
       "                 ColumnTransformer(transformers=[(&#x27;num&#x27;, StandardScaler(),\n",
       "                                                  [&#x27;Compartments&#x27;,\n",
       "                                                   &#x27;Weight Capacity (kg)&#x27;]),\n",
       "                                                 (&#x27;cat&#x27;,\n",
       "                                                  OneHotEncoder(handle_unknown=&#x27;ignore&#x27;),\n",
       "                                                  [&#x27;Brand&#x27;, &#x27;Material&#x27;, &#x27;Size&#x27;,\n",
       "                                                   &#x27;Laptop Compartment&#x27;,\n",
       "                                                   &#x27;Waterproof&#x27;, &#x27;Style&#x27;,\n",
       "                                                   &#x27;Color&#x27;])])),\n",
       "                (&#x27;regressor&#x27;,\n",
       "                 VotingRegressor(estimators=[(&#x27;model_0&#x27;,\n",
       "                                              XGBRegressor(base_score=None,\n",
       "                                                           booster=None,\n",
       "                                                           ca...\n",
       "                                                           learning_rate=0.1,\n",
       "                                                           max_bin=None,\n",
       "                                                           max_cat_threshold=None,\n",
       "                                                           max_cat_to_onehot=None,\n",
       "                                                           max_delta_step=None,\n",
       "                                                           max_depth=None,\n",
       "                                                           max_leaves=None,\n",
       "                                                           min_child_weight=None,\n",
       "                                                           missing=nan,\n",
       "                                                           monotone_constraints=None,\n",
       "                                                           multi_strategy=None,\n",
       "                                                           n_estimators=100,\n",
       "                                                           n_jobs=None,\n",
       "                                                           num_parallel_tree=None,\n",
       "                                                           random_state=None, ...)),\n",
       "                                             (&#x27;model_2&#x27;,\n",
       "                                              &lt;catboost.core.CatBoostRegressor object at 0x7d296e31b070&gt;)]))])</pre></div></div></div><div class=\"sk-serial\"><div class=\"sk-item sk-dashed-wrapped\"><div class=\"sk-label-container\"><div class=\"sk-label sk-toggleable\"><input class=\"sk-toggleable__control sk-hidden--visually\" id=\"sk-estimator-id-2\" type=\"checkbox\" ><label for=\"sk-estimator-id-2\" class=\"sk-toggleable__label sk-toggleable__label-arrow\">preprocessor: ColumnTransformer</label><div class=\"sk-toggleable__content\"><pre>ColumnTransformer(transformers=[(&#x27;num&#x27;, StandardScaler(),\n",
       "                                 [&#x27;Compartments&#x27;, &#x27;Weight Capacity (kg)&#x27;]),\n",
       "                                (&#x27;cat&#x27;, OneHotEncoder(handle_unknown=&#x27;ignore&#x27;),\n",
       "                                 [&#x27;Brand&#x27;, &#x27;Material&#x27;, &#x27;Size&#x27;,\n",
       "                                  &#x27;Laptop Compartment&#x27;, &#x27;Waterproof&#x27;, &#x27;Style&#x27;,\n",
       "                                  &#x27;Color&#x27;])])</pre></div></div></div><div class=\"sk-parallel\"><div class=\"sk-parallel-item\"><div class=\"sk-item\"><div class=\"sk-label-container\"><div class=\"sk-label sk-toggleable\"><input class=\"sk-toggleable__control sk-hidden--visually\" id=\"sk-estimator-id-3\" type=\"checkbox\" ><label for=\"sk-estimator-id-3\" class=\"sk-toggleable__label sk-toggleable__label-arrow\">num</label><div class=\"sk-toggleable__content\"><pre>[&#x27;Compartments&#x27;, &#x27;Weight Capacity (kg)&#x27;]</pre></div></div></div><div class=\"sk-serial\"><div class=\"sk-item\"><div class=\"sk-estimator sk-toggleable\"><input class=\"sk-toggleable__control sk-hidden--visually\" id=\"sk-estimator-id-4\" type=\"checkbox\" ><label for=\"sk-estimator-id-4\" class=\"sk-toggleable__label sk-toggleable__label-arrow\">StandardScaler</label><div class=\"sk-toggleable__content\"><pre>StandardScaler()</pre></div></div></div></div></div></div><div class=\"sk-parallel-item\"><div class=\"sk-item\"><div class=\"sk-label-container\"><div class=\"sk-label sk-toggleable\"><input class=\"sk-toggleable__control sk-hidden--visually\" id=\"sk-estimator-id-5\" type=\"checkbox\" ><label for=\"sk-estimator-id-5\" class=\"sk-toggleable__label sk-toggleable__label-arrow\">cat</label><div class=\"sk-toggleable__content\"><pre>[&#x27;Brand&#x27;, &#x27;Material&#x27;, &#x27;Size&#x27;, &#x27;Laptop Compartment&#x27;, &#x27;Waterproof&#x27;, &#x27;Style&#x27;, &#x27;Color&#x27;]</pre></div></div></div><div class=\"sk-serial\"><div class=\"sk-item\"><div class=\"sk-estimator sk-toggleable\"><input class=\"sk-toggleable__control sk-hidden--visually\" id=\"sk-estimator-id-6\" type=\"checkbox\" ><label for=\"sk-estimator-id-6\" class=\"sk-toggleable__label sk-toggleable__label-arrow\">OneHotEncoder</label><div class=\"sk-toggleable__content\"><pre>OneHotEncoder(handle_unknown=&#x27;ignore&#x27;)</pre></div></div></div></div></div></div></div></div><div class=\"sk-item sk-dashed-wrapped\"><div class=\"sk-label-container\"><div class=\"sk-label sk-toggleable\"><input class=\"sk-toggleable__control sk-hidden--visually\" id=\"sk-estimator-id-7\" type=\"checkbox\" ><label for=\"sk-estimator-id-7\" class=\"sk-toggleable__label sk-toggleable__label-arrow\">regressor: VotingRegressor</label><div class=\"sk-toggleable__content\"><pre>VotingRegressor(estimators=[(&#x27;model_0&#x27;,\n",
       "                             XGBRegressor(base_score=None, booster=None,\n",
       "                                          callbacks=None,\n",
       "                                          colsample_bylevel=None,\n",
       "                                          colsample_bynode=None,\n",
       "                                          colsample_bytree=0.8955732311163208,\n",
       "                                          device=None,\n",
       "                                          early_stopping_rounds=None,\n",
       "                                          enable_categorical=False,\n",
       "                                          eval_metric=None, feature_types=None,\n",
       "                                          gamma=None, grow_policy=None,\n",
       "                                          importance_type=None,\n",
       "                                          interaction_constraints=...\n",
       "                                          learning_rate=0.1, max_bin=None,\n",
       "                                          max_cat_threshold=None,\n",
       "                                          max_cat_to_onehot=None,\n",
       "                                          max_delta_step=None, max_depth=None,\n",
       "                                          max_leaves=None,\n",
       "                                          min_child_weight=None, missing=nan,\n",
       "                                          monotone_constraints=None,\n",
       "                                          multi_strategy=None, n_estimators=100,\n",
       "                                          n_jobs=None, num_parallel_tree=None,\n",
       "                                          random_state=None, ...)),\n",
       "                            (&#x27;model_2&#x27;,\n",
       "                             &lt;catboost.core.CatBoostRegressor object at 0x7d296e31b070&gt;)])</pre></div></div></div><div class=\"sk-parallel\"><div class=\"sk-parallel-item\"><div class=\"sk-item\"><div class=\"sk-label-container\"><div class=\"sk-label sk-toggleable\"><label>model_0</label></div></div><div class=\"sk-serial\"><div class=\"sk-item\"><div class=\"sk-estimator sk-toggleable\"><input class=\"sk-toggleable__control sk-hidden--visually\" id=\"sk-estimator-id-8\" type=\"checkbox\" ><label for=\"sk-estimator-id-8\" class=\"sk-toggleable__label sk-toggleable__label-arrow\">XGBRegressor</label><div class=\"sk-toggleable__content\"><pre>XGBRegressor(base_score=None, booster=None, callbacks=None,\n",
       "             colsample_bylevel=None, colsample_bynode=None,\n",
       "             colsample_bytree=0.8955732311163208, device=None,\n",
       "             early_stopping_rounds=None, enable_categorical=False,\n",
       "             eval_metric=None, feature_types=None, gamma=None, grow_policy=None,\n",
       "             importance_type=None, interaction_constraints=None,\n",
       "             learning_rate=0.014866156138676145, max_bin=None,\n",
       "             max_cat_threshold=None, max_cat_to_onehot=None,\n",
       "             max_delta_step=None, max_depth=4, max_leaves=None,\n",
       "             min_child_weight=6, missing=nan, monotone_constraints=None,\n",
       "             multi_strategy=None, n_estimators=700, n_jobs=None,\n",
       "             num_parallel_tree=None, random_state=None, ...)</pre></div></div></div></div></div></div><div class=\"sk-parallel-item\"><div class=\"sk-item\"><div class=\"sk-label-container\"><div class=\"sk-label sk-toggleable\"><label>model_1</label></div></div><div class=\"sk-serial\"><div class=\"sk-item\"><div class=\"sk-estimator sk-toggleable\"><input class=\"sk-toggleable__control sk-hidden--visually\" id=\"sk-estimator-id-9\" type=\"checkbox\" ><label for=\"sk-estimator-id-9\" class=\"sk-toggleable__label sk-toggleable__label-arrow\">XGBRegressor</label><div class=\"sk-toggleable__content\"><pre>XGBRegressor(base_score=None, booster=None, callbacks=None,\n",
       "             colsample_bylevel=None, colsample_bynode=None,\n",
       "             colsample_bytree=None, device=None, early_stopping_rounds=None,\n",
       "             enable_categorical=False, eval_metric=None, feature_types=None,\n",
       "             gamma=None, grow_policy=None, importance_type=None,\n",
       "             interaction_constraints=None, learning_rate=0.1, max_bin=None,\n",
       "             max_cat_threshold=None, max_cat_to_onehot=None,\n",
       "             max_delta_step=None, max_depth=None, max_leaves=None,\n",
       "             min_child_weight=None, missing=nan, monotone_constraints=None,\n",
       "             multi_strategy=None, n_estimators=100, n_jobs=None,\n",
       "             num_parallel_tree=None, random_state=None, ...)</pre></div></div></div></div></div></div><div class=\"sk-parallel-item\"><div class=\"sk-item\"><div class=\"sk-label-container\"><div class=\"sk-label sk-toggleable\"><label>model_2</label></div></div><div class=\"sk-serial\"><div class=\"sk-item\"><div class=\"sk-estimator sk-toggleable\"><input class=\"sk-toggleable__control sk-hidden--visually\" id=\"sk-estimator-id-10\" type=\"checkbox\" ><label for=\"sk-estimator-id-10\" class=\"sk-toggleable__label sk-toggleable__label-arrow\">CatBoostRegressor</label><div class=\"sk-toggleable__content\"><pre>&lt;catboost.core.CatBoostRegressor object at 0x7d296e31b070&gt;</pre></div></div></div></div></div></div></div></div></div></div></div></div>"
      ],
      "text/plain": [
       "Pipeline(steps=[('preprocessor',\n",
       "                 ColumnTransformer(transformers=[('num', StandardScaler(),\n",
       "                                                  ['Compartments',\n",
       "                                                   'Weight Capacity (kg)']),\n",
       "                                                 ('cat',\n",
       "                                                  OneHotEncoder(handle_unknown='ignore'),\n",
       "                                                  ['Brand', 'Material', 'Size',\n",
       "                                                   'Laptop Compartment',\n",
       "                                                   'Waterproof', 'Style',\n",
       "                                                   'Color'])])),\n",
       "                ('regressor',\n",
       "                 VotingRegressor(estimators=[('model_0',\n",
       "                                              XGBRegressor(base_score=None,\n",
       "                                                           booster=None,\n",
       "                                                           ca...\n",
       "                                                           learning_rate=0.1,\n",
       "                                                           max_bin=None,\n",
       "                                                           max_cat_threshold=None,\n",
       "                                                           max_cat_to_onehot=None,\n",
       "                                                           max_delta_step=None,\n",
       "                                                           max_depth=None,\n",
       "                                                           max_leaves=None,\n",
       "                                                           min_child_weight=None,\n",
       "                                                           missing=nan,\n",
       "                                                           monotone_constraints=None,\n",
       "                                                           multi_strategy=None,\n",
       "                                                           n_estimators=100,\n",
       "                                                           n_jobs=None,\n",
       "                                                           num_parallel_tree=None,\n",
       "                                                           random_state=None, ...)),\n",
       "                                             ('model_2',\n",
       "                                              <catboost.core.CatBoostRegressor object at 0x7d296e31b070>)]))])"
      ]
     },
     "execution_count": 10,
     "metadata": {},
     "output_type": "execute_result"
    }
   ],
   "source": [
    "voting_pipeline.fit(X_train, y_train)\n"
   ]
  },
  {
   "cell_type": "markdown",
   "id": "727d3c09",
   "metadata": {
    "papermill": {
     "duration": 0.00548,
     "end_time": "2025-02-27T18:18:50.447293",
     "exception": false,
     "start_time": "2025-02-27T18:18:50.441813",
     "status": "completed"
    },
    "tags": []
   },
   "source": [
    "# Make Predictions"
   ]
  },
  {
   "cell_type": "code",
   "execution_count": 11,
   "id": "6e2abdef",
   "metadata": {
    "execution": {
     "iopub.execute_input": "2025-02-27T18:18:50.460524Z",
     "iopub.status.busy": "2025-02-27T18:18:50.460166Z",
     "iopub.status.idle": "2025-02-27T18:18:51.826141Z",
     "shell.execute_reply": "2025-02-27T18:18:51.825234Z"
    },
    "papermill": {
     "duration": 1.374797,
     "end_time": "2025-02-27T18:18:51.828034",
     "exception": false,
     "start_time": "2025-02-27T18:18:50.453237",
     "status": "completed"
    },
    "tags": []
   },
   "outputs": [
    {
     "name": "stdout",
     "output_type": "stream",
     "text": [
      "Final RMSE from Voting Model: 38.97458003390934\n"
     ]
    }
   ],
   "source": [
    "final_preds = voting_pipeline.predict(X_test)\n",
    "final_rmse = mean_squared_error(y_test, final_preds, squared=False)\n",
    "print(f\"Final RMSE from Voting Model: {final_rmse}\")"
   ]
  },
  {
   "cell_type": "markdown",
   "id": "c540eb7f",
   "metadata": {
    "papermill": {
     "duration": 0.006889,
     "end_time": "2025-02-27T18:18:51.844656",
     "exception": false,
     "start_time": "2025-02-27T18:18:51.837767",
     "status": "completed"
    },
    "tags": []
   },
   "source": [
    "# Prepare Submission"
   ]
  },
  {
   "cell_type": "code",
   "execution_count": 12,
   "id": "332de087",
   "metadata": {
    "execution": {
     "iopub.execute_input": "2025-02-27T18:18:51.856690Z",
     "iopub.status.busy": "2025-02-27T18:18:51.856397Z",
     "iopub.status.idle": "2025-02-27T18:18:54.796039Z",
     "shell.execute_reply": "2025-02-27T18:18:54.794764Z"
    },
    "papermill": {
     "duration": 2.947383,
     "end_time": "2025-02-27T18:18:54.797538",
     "exception": false,
     "start_time": "2025-02-27T18:18:51.850155",
     "status": "completed"
    },
    "tags": []
   },
   "outputs": [
    {
     "name": "stdout",
     "output_type": "stream",
     "text": [
      "Submission file saved as 'submission.csv'\n"
     ]
    }
   ],
   "source": [
    "X_submission = test_df[X.columns]\n",
    "y_pred_submission = voting_pipeline.predict(X_submission)\n",
    "\n",
    "submission = pd.DataFrame({'id': test_df['id'].values, 'Price': y_pred_submission})\n",
    "submission.to_csv('submission.csv', index=False)\n",
    "print(\"Submission file saved as 'submission.csv'\")"
   ]
  },
  {
   "cell_type": "code",
   "execution_count": null,
   "id": "b4f2877b",
   "metadata": {
    "papermill": {
     "duration": 0.005461,
     "end_time": "2025-02-27T18:18:54.810141",
     "exception": false,
     "start_time": "2025-02-27T18:18:54.804680",
     "status": "completed"
    },
    "tags": []
   },
   "outputs": [],
   "source": []
  }
 ],
 "metadata": {
  "kaggle": {
   "accelerator": "none",
   "dataSources": [
    {
     "databundleVersionId": 10995111,
     "sourceId": 90274,
     "sourceType": "competition"
    }
   ],
   "dockerImageVersionId": 30919,
   "isGpuEnabled": false,
   "isInternetEnabled": true,
   "language": "python",
   "sourceType": "notebook"
  },
  "kernelspec": {
   "display_name": "Python 3",
   "language": "python",
   "name": "python3"
  },
  "language_info": {
   "codemirror_mode": {
    "name": "ipython",
    "version": 3
   },
   "file_extension": ".py",
   "mimetype": "text/x-python",
   "name": "python",
   "nbconvert_exporter": "python",
   "pygments_lexer": "ipython3",
   "version": "3.10.12"
  },
  "papermill": {
   "default_parameters": {},
   "duration": 1792.233915,
   "end_time": "2025-02-27T18:18:55.737622",
   "environment_variables": {},
   "exception": null,
   "input_path": "__notebook__.ipynb",
   "output_path": "__notebook__.ipynb",
   "parameters": {},
   "start_time": "2025-02-27T17:49:03.503707",
   "version": "2.6.0"
  }
 },
 "nbformat": 4,
 "nbformat_minor": 5
}
